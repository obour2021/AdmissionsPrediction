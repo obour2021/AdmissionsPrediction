{
 "cells": [
  {
   "cell_type": "code",
   "execution_count": 6,
   "metadata": {},
   "outputs": [],
   "source": [
    "# import pacckages\n",
    "\n",
    "import pandas as pd\n",
    "import numpy as np\n",
    "import matplotlib.pyplot as plt\n",
    "\n",
    "import tensorflow as tf\n",
    "from tensorflow\timport keras\n",
    "from tensorflow.keras.models import Sequential\n",
    "from tensorflow.keras.callbacks import EarlyStopping\n",
    "from tensorflow.keras import layers\n",
    "from tensorflow.keras.layers import Dense\n",
    "from tensorflow.keras.optimizers import Adam\n",
    "\n",
    "from sklearn.compose import ColumnTransformer\n",
    "from sklearn.model_selection import train_test_split\n",
    "from sklearn.preprocessing import StandardScaler\n",
    "from sklearn.preprocessing import Normalizer\n",
    "from sklearn.metrics import r2_score\n"
   ]
  },
  {
   "cell_type": "markdown",
   "metadata": {},
   "source": [
    "# Build the model"
   ]
  },
  {
   "cell_type": "code",
   "execution_count": 7,
   "metadata": {},
   "outputs": [],
   "source": [
    "\n",
    "# building the model\n",
    "def design_model(features):\n",
    "  model = Sequential(name = \"Admission_Prediction\")\n",
    "\n",
    "  input = layers.InputLayer(input_shape = (features.shape[1], )) # create input layer\n",
    "  model.add(input) # add input layer to model\n",
    "\n",
    "  model.add(Dense(64, activation = \"relu\")) # create and add hidden layer with relu activation funcntion\n",
    "\n",
    "  model.add(Dense(1)) # add output layer with one neuron for 1 output\n",
    "  #add optimizer Adam\n",
    "  opt = Adam(learning_rate = 0.01)\n",
    "  model.compile(loss='mse',  metrics=['mae'], optimizer=opt)\n",
    "  return model\n"
   ]
  },
  {
   "cell_type": "markdown",
   "metadata": {},
   "source": [
    "# Data Preprocessing and Model Fitting"
   ]
  },
  {
   "cell_type": "code",
   "execution_count": 8,
   "metadata": {},
   "outputs": [
    {
     "name": "stdout",
     "output_type": "stream",
     "text": [
      "Epoch 1/40\n",
      "80/80 [==============================] - 0s 2ms/step - loss: 0.2286 - mae: 0.3350 - val_loss: 0.0106 - val_mae: 0.0827\n",
      "Epoch 2/40\n",
      "80/80 [==============================] - 0s 2ms/step - loss: 0.0092 - mae: 0.0753 - val_loss: 0.0061 - val_mae: 0.0607\n",
      "Epoch 3/40\n",
      "80/80 [==============================] - 0s 953us/step - loss: 0.0080 - mae: 0.0718 - val_loss: 0.0047 - val_mae: 0.0537\n",
      "Epoch 4/40\n",
      "80/80 [==============================] - 0s 963us/step - loss: 0.0057 - mae: 0.0577 - val_loss: 0.0070 - val_mae: 0.0670\n",
      "Epoch 5/40\n",
      "80/80 [==============================] - 0s 922us/step - loss: 0.0054 - mae: 0.0576 - val_loss: 0.0065 - val_mae: 0.0650\n",
      "Epoch 6/40\n",
      "80/80 [==============================] - 0s 951us/step - loss: 0.0054 - mae: 0.0570 - val_loss: 0.0051 - val_mae: 0.0527\n",
      "Epoch 7/40\n",
      "80/80 [==============================] - 0s 939us/step - loss: 0.0047 - mae: 0.0551 - val_loss: 0.0045 - val_mae: 0.0541\n",
      "Epoch 8/40\n",
      "80/80 [==============================] - 0s 929us/step - loss: 0.0053 - mae: 0.0565 - val_loss: 0.0054 - val_mae: 0.0557\n",
      "Epoch 9/40\n",
      "80/80 [==============================] - 0s 999us/step - loss: 0.0044 - mae: 0.0538 - val_loss: 0.0053 - val_mae: 0.0578\n",
      "Epoch 10/40\n",
      "80/80 [==============================] - 0s 957us/step - loss: 0.0044 - mae: 0.0511 - val_loss: 0.0058 - val_mae: 0.0589\n",
      "Epoch 11/40\n",
      "80/80 [==============================] - 0s 967us/step - loss: 0.0045 - mae: 0.0481 - val_loss: 0.0065 - val_mae: 0.0591\n",
      "Epoch 12/40\n",
      "80/80 [==============================] - 0s 990us/step - loss: 0.0058 - mae: 0.0615 - val_loss: 0.0071 - val_mae: 0.0597\n",
      "Epoch 13/40\n",
      "80/80 [==============================] - 0s 937us/step - loss: 0.0042 - mae: 0.0512 - val_loss: 0.0104 - val_mae: 0.0862\n",
      "Epoch 14/40\n",
      "80/80 [==============================] - 0s 961us/step - loss: 0.0073 - mae: 0.0676 - val_loss: 0.0048 - val_mae: 0.0492\n",
      "Epoch 15/40\n",
      "80/80 [==============================] - 0s 921us/step - loss: 0.0055 - mae: 0.0572 - val_loss: 0.0044 - val_mae: 0.0482\n",
      "Epoch 16/40\n",
      "80/80 [==============================] - 0s 972us/step - loss: 0.0034 - mae: 0.0441 - val_loss: 0.0048 - val_mae: 0.0502\n",
      "Epoch 17/40\n",
      "80/80 [==============================] - 0s 1ms/step - loss: 0.0048 - mae: 0.0509 - val_loss: 0.0042 - val_mae: 0.0481\n",
      "Epoch 18/40\n",
      "80/80 [==============================] - 0s 932us/step - loss: 0.0038 - mae: 0.0479 - val_loss: 0.0042 - val_mae: 0.0501\n",
      "Epoch 19/40\n",
      "80/80 [==============================] - 0s 916us/step - loss: 0.0036 - mae: 0.0470 - val_loss: 0.0041 - val_mae: 0.0500\n",
      "Epoch 20/40\n",
      "80/80 [==============================] - 0s 945us/step - loss: 0.0050 - mae: 0.0528 - val_loss: 0.0045 - val_mae: 0.0533\n",
      "Epoch 21/40\n",
      "80/80 [==============================] - 0s 974us/step - loss: 0.0050 - mae: 0.0536 - val_loss: 0.0049 - val_mae: 0.0531\n",
      "Epoch 22/40\n",
      "80/80 [==============================] - 0s 962us/step - loss: 0.0053 - mae: 0.0575 - val_loss: 0.0045 - val_mae: 0.0526\n",
      "Epoch 23/40\n",
      "80/80 [==============================] - 0s 966us/step - loss: 0.0032 - mae: 0.0410 - val_loss: 0.0039 - val_mae: 0.0438\n",
      "Epoch 24/40\n",
      "80/80 [==============================] - 0s 973us/step - loss: 0.0038 - mae: 0.0486 - val_loss: 0.0036 - val_mae: 0.0463\n",
      "Epoch 25/40\n",
      "80/80 [==============================] - 0s 962us/step - loss: 0.0028 - mae: 0.0414 - val_loss: 0.0033 - val_mae: 0.0419\n",
      "Epoch 26/40\n",
      "80/80 [==============================] - 0s 1ms/step - loss: 0.0032 - mae: 0.0436 - val_loss: 0.0041 - val_mae: 0.0515\n",
      "Epoch 27/40\n",
      "80/80 [==============================] - 0s 999us/step - loss: 0.0036 - mae: 0.0466 - val_loss: 0.0036 - val_mae: 0.0460\n",
      "Epoch 28/40\n",
      "80/80 [==============================] - 0s 974us/step - loss: 0.0036 - mae: 0.0463 - val_loss: 0.0043 - val_mae: 0.0504\n",
      "Epoch 29/40\n",
      "80/80 [==============================] - 0s 965us/step - loss: 0.0034 - mae: 0.0455 - val_loss: 0.0030 - val_mae: 0.0389\n",
      "Epoch 30/40\n",
      "80/80 [==============================] - 0s 979us/step - loss: 0.0032 - mae: 0.0422 - val_loss: 0.0042 - val_mae: 0.0520\n",
      "Epoch 31/40\n",
      "80/80 [==============================] - 0s 980us/step - loss: 0.0041 - mae: 0.0520 - val_loss: 0.0048 - val_mae: 0.0505\n",
      "Epoch 32/40\n",
      "80/80 [==============================] - 0s 958us/step - loss: 0.0040 - mae: 0.0472 - val_loss: 0.0035 - val_mae: 0.0439\n",
      "Epoch 33/40\n",
      "80/80 [==============================] - 0s 964us/step - loss: 0.0033 - mae: 0.0433 - val_loss: 0.0033 - val_mae: 0.0404\n",
      "Epoch 34/40\n",
      "80/80 [==============================] - 0s 988us/step - loss: 0.0033 - mae: 0.0439 - val_loss: 0.0038 - val_mae: 0.0452\n",
      "Epoch 35/40\n",
      "80/80 [==============================] - 0s 981us/step - loss: 0.0047 - mae: 0.0524 - val_loss: 0.0033 - val_mae: 0.0404\n",
      "Epoch 36/40\n",
      "80/80 [==============================] - 0s 942us/step - loss: 0.0034 - mae: 0.0432 - val_loss: 0.0052 - val_mae: 0.0603\n",
      "Epoch 37/40\n",
      "80/80 [==============================] - 0s 954us/step - loss: 0.0035 - mae: 0.0471 - val_loss: 0.0044 - val_mae: 0.0516\n",
      "Epoch 38/40\n",
      "80/80 [==============================] - 0s 1ms/step - loss: 0.0035 - mae: 0.0457 - val_loss: 0.0036 - val_mae: 0.0465\n",
      "Epoch 39/40\n",
      "80/80 [==============================] - 0s 2ms/step - loss: 0.0042 - mae: 0.0496 - val_loss: 0.0036 - val_mae: 0.0448\n",
      "Epoch 40/40\n",
      "80/80 [==============================] - 0s 1ms/step - loss: 0.0035 - mae: 0.0460 - val_loss: 0.0032 - val_mae: 0.0421\n",
      "Model: \"Admission_Prediction\"\n",
      "_________________________________________________________________\n",
      "Layer (type)                 Output Shape              Param #   \n",
      "=================================================================\n",
      "dense_2 (Dense)              (None, 64)                512       \n",
      "_________________________________________________________________\n",
      "dense_3 (Dense)              (None, 1)                 65        \n",
      "=================================================================\n",
      "Total params: 577\n",
      "Trainable params: 577\n",
      "Non-trainable params: 0\n",
      "_________________________________________________________________\n",
      "None\n",
      "MSE:  0.004688015207648277\n",
      "MAE:  0.04934239014983177\n"
     ]
    }
   ],
   "source": [
    "# load data \n",
    "dataset = pd.read_csv('admissions_data.csv')\n",
    "# print(dataset.head())\n",
    "# data spliting into features and labels\n",
    "features = dataset.iloc[:, 1:-1] # select up to last column dropping serial number\n",
    "labels = dataset.iloc[:, -1] # select last column\n",
    "\n",
    "# split data into training and test sets\n",
    "features_train, features_test, labels_train, labels_test = train_test_split(features, labels, test_size=0.2, random_state=20)\n",
    "\n",
    "# standardize\n",
    "numerical_features = features.select_dtypes(include=['float64', 'int64']) # select all list of numerical data\n",
    "\n",
    "numerical_columns = numerical_features.columns # set columns\n",
    "\n",
    "# initializes a ColumnTransformer\n",
    "ct = ColumnTransformer([(\"scale\", StandardScaler(), numerical_columns)], remainder='passthrough') \n",
    "\n",
    "features_train_scaled = ct.fit_transform(features_train) #fit the standadizer to the training data \n",
    "\n",
    "features_test_scaled = ct.transform(features_test) #applied the trained standadizer on the test data\n",
    "\n",
    "#ColumnTransformer returns numpy arrays. Convert the features to dataframes\n",
    "features_train_scale = pd.DataFrame(features_train_scaled, columns = numerical_columns)\n",
    "\n",
    "features_test_scale = pd.DataFrame(features_test_scaled, columns = numerical_columns)\n",
    "\n",
    "#invoke the function for our model design\n",
    "model = design_model(features_train_scaled)\n",
    "\n",
    "# EarlyStopping fucntion\n",
    "stop = EarlyStopping(monitor='val_loss', mode='min', verbose=1, patience=40)\n",
    "# fit the model\n",
    "history = model.fit(features_train_scaled, labels_train, epochs = 40, batch_size = 4, verbose = 1,validation_split= 0.2, callbacks=[stop])\n",
    "\n",
    "# evaluate model\n",
    "val_mse, val_mae = model.evaluate(features_test_scaled, labels_test, verbose = 0)\n",
    "\n",
    "# model.predict(features_test_scaled, labels_test)\n",
    "# model.r2_score(features_test_scaled, labels_test)\n",
    "print(model.summary()) # print summary of the sequential model\n",
    "\n",
    "print(\"MSE: \", val_mse) # print root mean squared errors \n",
    "\n",
    "print(\"MAE: \", val_mae) # print mean absolute errors  \n"
   ]
  },
  {
   "cell_type": "markdown",
   "metadata": {},
   "source": [
    "# Plotting"
   ]
  },
  {
   "cell_type": "code",
   "execution_count": 11,
   "metadata": {},
   "outputs": [
    {
     "data": {
      "image/png": "[encoded data removed]",
      "text/plain": [
       "<Figure size 720x432 with 2 Axes>"
      ]
     },
     "metadata": {
      "needs_background": "light"
     },
     "output_type": "display_data"
    }
   ],
   "source": [
    "\n",
    "\n",
    "# model performance plotting\n",
    "fig = plt.figure(figsize=(10,6))\n",
    "ax1 = fig.add_subplot(2, 1, 1)\n",
    "ax1.plot(history.history['mae'])\n",
    "ax1.plot(history.history['val_mae'])\n",
    "ax1.set_title('model mae')\n",
    "ax1.set_ylabel('MAE')\n",
    "ax1.set_xlabel('epoch')\n",
    "ax1.legend(['train', 'validation'], loc='upper left')\n",
    " \n",
    "  # Plot loss and val_loss over each epoch\n",
    "ax2 = fig.add_subplot(2, 1, 2)\n",
    "ax2.plot(history.history['loss'])\n",
    "ax2.plot(history.history['val_loss'])\n",
    "ax2.set_title('model loss')\n",
    "ax2.set_ylabel('loss')\n",
    "ax2.set_xlabel('epoch')\n",
    "ax2.legend(['train', 'validation'], loc='upper left')\n",
    " \n",
    "# used to keep plots from overlapping each other  \n",
    "fig.tight_layout()\n",
    "fig.savefig('plots.png')\n"
   ]
  },
  {
   "cell_type": "markdown",
   "metadata": {},
   "source": [
    "# Make predictions"
   ]
  },
  {
   "cell_type": "code",
   "execution_count": 13,
   "metadata": {},
   "outputs": [
    {
     "data": {
      "text/plain": [
       "0.768654868557708"
      ]
     },
     "execution_count": 13,
     "metadata": {},
     "output_type": "execute_result"
    }
   ],
   "source": [
    "prediction = model.predict(features_test_scaled) # make predictions\n",
    "\n",
    "r2_score(labels_test, prediction) # print accuracy"
   ]
  },
  {
   "cell_type": "code",
   "execution_count": null,
   "metadata": {},
   "outputs": [],
   "source": []
  }
 ],
 "metadata": {
  "kernelspec": {
   "display_name": "Python 3",
   "language": "python",
   "name": "python3"
  },
  "language_info": {
   "codemirror_mode": {
    "name": "ipython",
    "version": 3
   },
   "file_extension": ".py",
   "mimetype": "text/x-python",
   "name": "python",
   "nbconvert_exporter": "python",
   "pygments_lexer": "ipython3",
   "version": "3.7.3"
  }
 },
 "nbformat": 4,
 "nbformat_minor": 2
}
